{
 "cells": [
  {
   "cell_type": "code",
   "execution_count": 9,
   "id": "8c250410-b98f-457e-ad71-4ae6518fbfe7",
   "metadata": {},
   "outputs": [],
   "source": [
    "import matplotlib.pyplot as plt\n",
    "import numpy as np\n",
    "import pyomo.environ as pyo\n",
    "import time\n",
    "import tqdm, random"
   ]
  },
  {
   "cell_type": "markdown",
   "id": "f8c8253e-11dd-4ef6-bb21-35f2c77bff26",
   "metadata": {},
   "source": [
    "$$Maximize\\ \\sum_i x_i$$\n",
    "s.t. \n",
    "$$\\sum_{i<j}^I x_i \\leq j^2 \\ \\forall \\ j$$"
   ]
  },
  {
   "cell_type": "code",
   "execution_count": 17,
   "id": "4da3c5f9-f2ec-4c9d-9d14-6c0299874888",
   "metadata": {},
   "outputs": [],
   "source": [
    "def getRandomIndices(mx,n):\n",
    "    nums = np.random.randint(0,mx,n)\n",
    "    return nums\n",
    "\n",
    "def constructModel(n):\n",
    "    model = pyo.ConcreteModel()\n",
    "    \n",
    "    I = range(n)\n",
    "    model.I = pyo.Set(initialize=I)\n",
    "\n",
    "    model.x = pyo.Var(model.I, domain=pyo.NonNegativeReals)\n",
    "\n",
    "    model.objFunc = pyo.Objective(\n",
    "        expr = sum([model.x[i] for i in model.I]),\n",
    "        sense = pyo.maximize\n",
    "    )\n",
    "    \n",
    "    np.random.seed(1)\n",
    "\n",
    "    def constr(m,ii):\n",
    "        indexs = getRandomIndices(n,int(n/2))\n",
    "        \n",
    "        lhs = 0\n",
    "        for i in indexs:\n",
    "            lhs += m.x[i] * np.random.uniform()\n",
    "        rhs = np.random.uniform()\n",
    "        return lhs <= rhs\n",
    "\n",
    "    model.constraint = pyo.Constraint(model.I, rule=constr)\n",
    "    return model"
   ]
  },
  {
   "cell_type": "code",
   "execution_count": 3,
   "id": "8d648e75-c90f-4486-ac89-a6998d6fdb85",
   "metadata": {},
   "outputs": [],
   "source": [
    "def rawStart(model):\n",
    "    pyo.SolverFactory('gurobi').solve(model)#.write()\n",
    "    # model.objFunc.display()\n",
    "    # model.x.display()"
   ]
  },
  {
   "cell_type": "code",
   "execution_count": 4,
   "id": "05b6ab17-8e2d-40f3-bec4-fd4e4ed052c6",
   "metadata": {},
   "outputs": [],
   "source": [
    "SOLUTION = None\n",
    "\n",
    "def setSolution(n):\n",
    "    global SOLUTION\n",
    "    \n",
    "    model = constructModel(n)\n",
    "    pyo.SolverFactory('gurobi').solve(model)\n",
    "    SOLUTION = np.zeros(n)\n",
    "    for i in range(n):\n",
    "        SOLUTION[i] = pyo.value(model.x[i])\n",
    "\n",
    "def warmStart(model,n,fracToStart=1,variation=0):\n",
    "    global SOLUTION\n",
    "\n",
    "    for i in range(n):\n",
    "        if np.random.uniform() < fracToStart:\n",
    "            if variation != 0:\n",
    "                model.x[i] = SOLUTION[i] + np.random.randint(-variation,variation)\n",
    "            else:\n",
    "                model.x[i] = SOLUTION[i]\n",
    "        \n",
    "\n",
    "    pyo.SolverFactory('gurobi').solve(model, warmstart=True)#.write()\n",
    "    # model.objFunc.display()\n",
    "    # model.x.display()"
   ]
  },
  {
   "cell_type": "code",
   "execution_count": 5,
   "id": "e63c0106-cdfe-4420-8aa2-07a31fc94247",
   "metadata": {},
   "outputs": [],
   "source": [
    "def timeFunc(func,args=(),nExec=25):\n",
    "    tStart = time.time()\n",
    "    for i in range(nExec):\n",
    "        func(*args)\n",
    "    tEnd = time.time()\n",
    "    return (tEnd - tStart) / nExec"
   ]
  },
  {
   "cell_type": "code",
   "execution_count": null,
   "id": "a54b3584-609a-42f9-b9eb-84df7ef483e5",
   "metadata": {},
   "outputs": [],
   "source": [
    "raws = []\n",
    "warms = []\n",
    "\n",
    "nTests = 1000\n",
    "nExec = 1\n",
    "\n",
    "pbar = tqdm.tqdm(range(nTests))\n",
    "    \n",
    "class RNG:\n",
    "    def __init__(self):\n",
    "        self.seed = time.time()\n",
    "    def get(self):\n",
    "        self.seed += 1\n",
    "        a = self.seed * 15485863\n",
    "        return (a * a * a % 2038074743) / 2038074743\n",
    "    \n",
    "myRNG = RNG()\n",
    "    \n",
    "def myRandomChoice(lst):\n",
    "    i = int(myRNG.get() * len(lst))\n",
    "    return lst[i]\n",
    "\n",
    "for i in pbar:\n",
    "    nVar = myRandomChoice(np.logspace(1,3,100,dtype=int))\n",
    "    useRaw = myRandomChoice([True,False])\n",
    "    desc = \"Now Running {} test with {} variables: gen...\".format(\"raw\" if useRaw else \"warm\", nVar)\n",
    "    pbar.set_description(desc)\n",
    "    \n",
    "    if useRaw:\n",
    "        model = constructModel(nVar)\n",
    "        desc += \"Opt...\"\n",
    "        pbar.set_description(desc)\n",
    "        raws.append([nVar,timeFunc(rawStart,args=(model,),nExec=nExec)])\n",
    "    else:\n",
    "        setSolution(nVar)\n",
    "        model = constructModel(nVar)\n",
    "        desc += \"Opt...\"\n",
    "        pbar.set_description(desc)\n",
    "        warms.append([nVar,timeFunc(warmStart,args=(model,nVar,),nExec=nExec)])\n",
    "        \n",
    "pbar.close()"
   ]
  },
  {
   "cell_type": "code",
   "execution_count": 22,
   "id": "8a55b6c4-001b-4b1c-b419-1cde562d47be",
   "metadata": {},
   "outputs": [
    {
     "data": {
      "text/plain": [
       "<matplotlib.legend.Legend at 0x19435c022c0>"
      ]
     },
     "execution_count": 22,
     "metadata": {},
     "output_type": "execute_result"
    },
    {
     "data": {
      "image/png": "[encoded data removed]",
      "text/plain": [
       "<Figure size 432x288 with 1 Axes>"
      ]
     },
     "metadata": {
      "needs_background": "light"
     },
     "output_type": "display_data"
    }
   ],
   "source": [
    "plt.plot([x[0] for x in raws],[x[1] for x in raws],\".\",label=\"RAW\")\n",
    "plt.plot([x[0] for x in warms],[x[1] for x in warms],\".\",label=\"WARM\")\n",
    "#plt.xscale(\"log\")\n",
    "plt.legend()"
   ]
  },
  {
   "cell_type": "code",
   "execution_count": null,
   "id": "97e08dd0-4b80-4763-b2f0-328adc65b939",
   "metadata": {},
   "outputs": [],
   "source": []
  }
 ],
 "metadata": {
  "kernelspec": {
   "display_name": "Python 3 (ipykernel)",
   "language": "python",
   "name": "python3"
  },
  "language_info": {
   "codemirror_mode": {
    "name": "ipython",
    "version": 3
   },
   "file_extension": ".py",
   "mimetype": "text/x-python",
   "name": "python",
   "nbconvert_exporter": "python",
   "pygments_lexer": "ipython3",
   "version": "3.10.9"
  }
 },
 "nbformat": 4,
 "nbformat_minor": 5
}
