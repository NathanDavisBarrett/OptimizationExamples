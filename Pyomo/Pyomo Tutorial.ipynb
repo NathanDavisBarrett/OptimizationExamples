{
 "cells": [
  {
   "cell_type": "markdown",
   "metadata": {},
   "source": [
    "# References\n",
    "https://pyomo.readthedocs.io/en/stable/pyomo_overview/simple_examples.html"
   ]
  },
  {
   "cell_type": "markdown",
   "metadata": {},
   "source": [
    "```\n",
    "conda install -c conda-forge pyomo\n",
    "```"
   ]
  },
  {
   "cell_type": "code",
   "execution_count": 3,
   "metadata": {},
   "outputs": [],
   "source": [
    "import pyomo.environ as pyo\n",
    "import numpy as np"
   ]
  },
  {
   "cell_type": "markdown",
   "metadata": {},
   "source": [
    "In this tutorial, I'll use the Gurobi solver. Students and academics can register for a free license [here](https://www.gurobi.com/academia/academic-program-and-licenses/). \n",
    "\n",
    "Pyomo also suports several other solvers. The solvers available for your version of pyomo can be listed by running the following command in an anaconda prompt using an environment with pyomo installed.\n",
    "```\n",
    "pyomo help --solvers\n",
    "```"
   ]
  },
  {
   "cell_type": "markdown",
   "metadata": {},
   "source": [
    "# Minimal Example"
   ]
  },
  {
   "cell_type": "markdown",
   "metadata": {},
   "source": [
    "$Maximize\\left( 40 \\ x \\right)$\n",
    "\n",
    "s.t. \n",
    "\n",
    "$x \\leq 40$"
   ]
  },
  {
   "cell_type": "code",
   "execution_count": 7,
   "metadata": {},
   "outputs": [
    {
     "name": "stdout",
     "output_type": "stream",
     "text": [
      "ObjFunc = 1600.0\n",
      "x = 40.0\n"
     ]
    }
   ],
   "source": [
    "model = pyo.ConcreteModel()\n",
    "\n",
    "model.x = pyo.Var(domain=pyo.NonNegativeReals)\n",
    "\n",
    "model.objFunc = pyo.Objective(\n",
    "    expr = 40 * model.x,\n",
    "    sense = pyo.maximize\n",
    ")\n",
    "\n",
    "model.demandConstraint = pyo.Constraint(expr = model.x <= 40)\n",
    "\n",
    "pyo.SolverFactory('gurobi').solve(model)#.write()\n",
    "\n",
    "#model.objFunc.display()\n",
    "print(\"ObjFunc = {}\".format(model.objFunc()))\n",
    "print(\"x = {}\".format(model.x()))"
   ]
  },
  {
   "cell_type": "markdown",
   "metadata": {},
   "source": [
    "# Array of Variables Example"
   ]
  },
  {
   "cell_type": "markdown",
   "metadata": {},
   "source": [
    "$Maximize\\left(\\sum_{i \\in I} c_i x_i \\right)$\n",
    "\n",
    "s.t. \n",
    "\n",
    "$x_i \\leq b_i \\ \\ \\ \\ \\forall \\ i \\in I$"
   ]
  },
  {
   "cell_type": "code",
   "execution_count": 10,
   "metadata": {},
   "outputs": [
    {
     "name": "stdout",
     "output_type": "stream",
     "text": [
      "ObjFunc = 2.517802331273474\n",
      "x : Size=10, Index=I\n",
      "    Key : Lower : Value               : Upper : Fixed : Stale : Domain\n",
      "      0 :     0 : 0.37690870596694015 :  None : False : False : NonNegativeReals\n",
      "      1 :     0 :  0.3257149920412692 :  None : False : False : NonNegativeReals\n",
      "      2 :     0 :  0.5773276138039757 :  None : False : False : NonNegativeReals\n",
      "      3 :     0 :  0.9838212872568641 :  None : False : False : NonNegativeReals\n",
      "      4 :     0 :  0.8636205814788136 :  None : False : False : NonNegativeReals\n",
      "      5 :     0 :  0.7417648603245927 :  None : False : False : NonNegativeReals\n",
      "      6 :     0 :  0.8138812528075818 :  None : False : False : NonNegativeReals\n",
      "      7 :     0 : 0.44816866002037126 :  None : False : False : NonNegativeReals\n",
      "      8 :     0 :  0.8896687815465013 :  None : False : False : NonNegativeReals\n",
      "      9 :     0 : 0.38861722190339176 :  None : False : False : NonNegativeReals\n"
     ]
    }
   ],
   "source": [
    "model = pyo.ConcreteModel()\n",
    "\n",
    "numVar = 10\n",
    "\n",
    "model.I = pyo.Set(initialize=range(numVar))\n",
    "\n",
    "model.x = pyo.Var(model.I, domain=pyo.NonNegativeReals)\n",
    "\n",
    "c = np.random.uniform(0,1,numVar)\n",
    "b = np.random.uniform(0,1,numVar)\n",
    "\n",
    "model.objFunc = pyo.Objective(\n",
    "    expr = sum([c[i] * model.x[i] for i in model.I]),\n",
    "    sense = pyo.maximize\n",
    ")\n",
    "\n",
    "def myConstraint(m,i):\n",
    "    return m.x[i] <= b[i]\n",
    "model.myConstraint = pyo.Constraint(model.I, rule=myConstraint)\n",
    "\n",
    "pyo.SolverFactory('gurobi').solve(model)#.write()\n",
    "\n",
    "#model.objFunc.display()\n",
    "print(\"ObjFunc = {}\".format(model.objFunc()))\n",
    "model.x.display()"
   ]
  },
  {
   "cell_type": "markdown",
   "metadata": {},
   "source": [
    "# Multi-Dimensional Array of Variables Example\n",
    "\n",
    "$Maximize\\left(\\sum_{i \\in I} \\sum_{j \\in J} \\sum_{k \\in K} c_{i,j,k} x_{i,j,k} \\right)$\n",
    "\n",
    "s.t. \n",
    "\n",
    "$\\sum_{k \\in K} x_{i,j,k} \\leq b_{i,j} \\ \\ \\ \\ \\forall \\ i \\in \\ I, \\ j \\ \\in \\ J$"
   ]
  },
  {
   "cell_type": "code",
   "execution_count": 13,
   "metadata": {},
   "outputs": [
    {
     "name": "stdout",
     "output_type": "stream",
     "text": [
      "ObjFunc = 3.5353518712345475\n",
      "x : Size=60, Index=I_J_K\n",
      "    Key       : Lower : Value               : Upper : Fixed : Stale : Domain\n",
      "    (0, 0, 0) :     0 :                 0.0 :  None : False : False : NonNegativeReals\n",
      "    (0, 0, 1) :     0 :                 0.0 :  None : False : False : NonNegativeReals\n",
      "    (0, 0, 2) :     0 :                 0.0 :  None : False : False : NonNegativeReals\n",
      "    (0, 0, 3) :     0 :                 0.0 :  None : False : False : NonNegativeReals\n",
      "    (0, 0, 4) :     0 : 0.29518878210040833 :  None : False : False : NonNegativeReals\n",
      "    (0, 1, 0) :     0 :                 0.0 :  None : False : False : NonNegativeReals\n",
      "    (0, 1, 1) :     0 :                 0.0 :  None : False : False : NonNegativeReals\n",
      "    (0, 1, 2) :     0 :                 0.0 :  None : False : False : NonNegativeReals\n",
      "    (0, 1, 3) :     0 :                 0.0 :  None : False : False : NonNegativeReals\n",
      "    (0, 1, 4) :     0 :  0.3033402779612966 :  None : False : False : NonNegativeReals\n",
      "    (0, 2, 0) :     0 :                 0.0 :  None : False : False : NonNegativeReals\n",
      "    (0, 2, 1) :     0 : 0.34152737478392314 :  None : False : False : NonNegativeReals\n",
      "    (0, 2, 2) :     0 :                 0.0 :  None : False : False : NonNegativeReals\n",
      "    (0, 2, 3) :     0 :                 0.0 :  None : False : False : NonNegativeReals\n",
      "    (0, 2, 4) :     0 :                 0.0 :  None : False : False : NonNegativeReals\n",
      "    (0, 3, 0) :     0 :                 0.0 :  None : False : False : NonNegativeReals\n",
      "    (0, 3, 1) :     0 : 0.49178656212040184 :  None : False : False : NonNegativeReals\n",
      "    (0, 3, 2) :     0 :                 0.0 :  None : False : False : NonNegativeReals\n",
      "    (0, 3, 3) :     0 :                 0.0 :  None : False : False : NonNegativeReals\n",
      "    (0, 3, 4) :     0 :                 0.0 :  None : False : False : NonNegativeReals\n",
      "    (1, 0, 0) :     0 :                 0.0 :  None : False : False : NonNegativeReals\n",
      "    (1, 0, 1) :     0 :                 0.0 :  None : False : False : NonNegativeReals\n",
      "    (1, 0, 2) :     0 :                 0.0 :  None : False : False : NonNegativeReals\n",
      "    (1, 0, 3) :     0 : 0.23427960324046426 :  None : False : False : NonNegativeReals\n",
      "    (1, 0, 4) :     0 :                 0.0 :  None : False : False : NonNegativeReals\n",
      "    (1, 1, 0) :     0 :                 0.0 :  None : False : False : NonNegativeReals\n",
      "    (1, 1, 1) :     0 :  0.3316890659818389 :  None : False : False : NonNegativeReals\n",
      "    (1, 1, 2) :     0 :                 0.0 :  None : False : False : NonNegativeReals\n",
      "    (1, 1, 3) :     0 :                 0.0 :  None : False : False : NonNegativeReals\n",
      "    (1, 1, 4) :     0 :                 0.0 :  None : False : False : NonNegativeReals\n",
      "    (1, 2, 0) :     0 :                 0.0 :  None : False : False : NonNegativeReals\n",
      "    (1, 2, 1) :     0 :                 0.0 :  None : False : False : NonNegativeReals\n",
      "    (1, 2, 2) :     0 :                 0.0 :  None : False : False : NonNegativeReals\n",
      "    (1, 2, 3) :     0 :  0.8488597617634285 :  None : False : False : NonNegativeReals\n",
      "    (1, 2, 4) :     0 :                 0.0 :  None : False : False : NonNegativeReals\n",
      "    (1, 3, 0) :     0 :                 0.0 :  None : False : False : NonNegativeReals\n",
      "    (1, 3, 1) :     0 :  0.2078125455122013 :  None : False : False : NonNegativeReals\n",
      "    (1, 3, 2) :     0 :                 0.0 :  None : False : False : NonNegativeReals\n",
      "    (1, 3, 3) :     0 :                 0.0 :  None : False : False : NonNegativeReals\n",
      "    (1, 3, 4) :     0 :                 0.0 :  None : False : False : NonNegativeReals\n",
      "    (2, 0, 0) :     0 :                 0.0 :  None : False : False : NonNegativeReals\n",
      "    (2, 0, 1) :     0 :                 0.0 :  None : False : False : NonNegativeReals\n",
      "    (2, 0, 2) :     0 :                 0.0 :  None : False : False : NonNegativeReals\n",
      "    (2, 0, 3) :     0 :  0.7227123490511581 :  None : False : False : NonNegativeReals\n",
      "    (2, 0, 4) :     0 :                 0.0 :  None : False : False : NonNegativeReals\n",
      "    (2, 1, 0) :     0 :                 0.0 :  None : False : False : NonNegativeReals\n",
      "    (2, 1, 1) :     0 :                 0.0 :  None : False : False : NonNegativeReals\n",
      "    (2, 1, 2) :     0 :                 0.0 :  None : False : False : NonNegativeReals\n",
      "    (2, 1, 3) :     0 :                 0.0 :  None : False : False : NonNegativeReals\n",
      "    (2, 1, 4) :     0 :   0.520060486735873 :  None : False : False : NonNegativeReals\n",
      "    (2, 2, 0) :     0 :                 0.0 :  None : False : False : NonNegativeReals\n",
      "    (2, 2, 1) :     0 : 0.08841939707100621 :  None : False : False : NonNegativeReals\n",
      "    (2, 2, 2) :     0 :                 0.0 :  None : False : False : NonNegativeReals\n",
      "    (2, 2, 3) :     0 :                 0.0 :  None : False : False : NonNegativeReals\n",
      "    (2, 2, 4) :     0 :                 0.0 :  None : False : False : NonNegativeReals\n",
      "    (2, 3, 0) :     0 :                 0.0 :  None : False : False : NonNegativeReals\n",
      "    (2, 3, 1) :     0 : 0.08681992577232223 :  None : False : False : NonNegativeReals\n",
      "    (2, 3, 2) :     0 :                 0.0 :  None : False : False : NonNegativeReals\n",
      "    (2, 3, 3) :     0 :                 0.0 :  None : False : False : NonNegativeReals\n",
      "    (2, 3, 4) :     0 :                 0.0 :  None : False : False : NonNegativeReals\n"
     ]
    }
   ],
   "source": [
    "model = pyo.ConcreteModel()\n",
    "\n",
    "numI = 3\n",
    "numJ = 4\n",
    "numK = 5\n",
    "\n",
    "model.I = pyo.Set(initialize=range(numI))\n",
    "model.J = pyo.Set(initialize=range(numJ))\n",
    "model.K = pyo.Set(initialize=range(numK))\n",
    "\n",
    "model.I_J = pyo.Set(initialize=model.I * model.J)\n",
    "model.I_J_K = pyo.Set(initialize=model.I * model.J * model.K)\n",
    "\n",
    "model.x = pyo.Var(model.I_J_K, domain=pyo.NonNegativeReals)\n",
    "\n",
    "c = np.random.uniform(0,1,(numI,numJ,numK))\n",
    "b = np.random.uniform(0,1,(numI,numJ))\n",
    "\n",
    "model.objFunc = pyo.Objective(\n",
    "    expr = sum([c[i,j,k] * model.x[i,j,k] for i in model.I for j in model.J for k in model.K]),\n",
    "    sense = pyo.maximize\n",
    ")\n",
    "\n",
    "def myConstraint(m,i,j):\n",
    "    return sum([m.x[i,j,k] for k in m.K]) <= b[i,j]\n",
    "model.myConstraint = pyo.Constraint(model.I_J, rule=myConstraint)\n",
    "\n",
    "pyo.SolverFactory('gurobi').solve(model)#.write()\n",
    "\n",
    "#model.objFunc.display()\n",
    "print(\"ObjFunc = {}\".format(model.objFunc()))\n",
    "model.x.display()"
   ]
  },
  {
   "cell_type": "code",
   "execution_count": null,
   "metadata": {},
   "outputs": [],
   "source": []
  }
 ],
 "metadata": {
  "kernelspec": {
   "display_name": "Python 3 (ipykernel)",
   "language": "python",
   "name": "python3"
  },
  "language_info": {
   "codemirror_mode": {
    "name": "ipython",
    "version": 3
   },
   "file_extension": ".py",
   "mimetype": "text/x-python",
   "name": "python",
   "nbconvert_exporter": "python",
   "pygments_lexer": "ipython3",
   "version": "3.10.9"
  },
  "varInspector": {
   "cols": {
    "lenName": 16,
    "lenType": 16,
    "lenVar": 40
   },
   "kernels_config": {
    "python": {
     "delete_cmd_postfix": "",
     "delete_cmd_prefix": "del ",
     "library": "var_list.py",
     "varRefreshCmd": "print(var_dic_list())"
    },
    "r": {
     "delete_cmd_postfix": ") ",
     "delete_cmd_prefix": "rm(",
     "library": "var_list.r",
     "varRefreshCmd": "cat(var_dic_list()) "
    }
   },
   "types_to_exclude": [
    "module",
    "function",
    "builtin_function_or_method",
    "instance",
    "_Feature"
   ],
   "window_display": false
  }
 },
 "nbformat": 4,
 "nbformat_minor": 4
}
