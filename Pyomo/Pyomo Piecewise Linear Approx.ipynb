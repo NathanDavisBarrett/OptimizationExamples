{
 "cells": [
  {
   "cell_type": "code",
   "execution_count": 2,
   "id": "cd69969a-1ae3-473b-92bb-df930ef1f381",
   "metadata": {},
   "outputs": [
    {
     "name": "stderr",
     "output_type": "stream",
     "text": [
      "C:\\Users\\nb5786-A\\miniconda3\\envs\\maravelias\\lib\\site-packages\\scipy\\__init__.py:146: UserWarning: A NumPy version >=1.16.5 and <1.23.0 is required for this version of SciPy (detected version 1.23.5\n",
      "  warnings.warn(f\"A NumPy version >={np_minversion} and <{np_maxversion}\"\n"
     ]
    }
   ],
   "source": [
    "import matplotlib.pyplot as plt\n",
    "import numpy as np\n",
    "import pyomo.environ as pyo\n",
    "from scipy.interpolate import interp1d\n",
    "from scipy.optimize import minimize\n",
    "import copy"
   ]
  },
  {
   "cell_type": "markdown",
   "id": "4cd88f66-b5ef-441c-aefa-13e50f086bec",
   "metadata": {},
   "source": [
    "### Quick Nonlinear optimization to determine the best placement of linear regions"
   ]
  },
  {
   "cell_type": "code",
   "execution_count": 17,
   "id": "9b5f5f3a-3735-4821-a99f-620b9330458f",
   "metadata": {},
   "outputs": [
    {
     "data": {
      "text/plain": [
       "<matplotlib.legend.Legend at 0x17323b814b0>"
      ]
     },
     "execution_count": 17,
     "metadata": {},
     "output_type": "execute_result"
    },
    {
     "data": {
      "image/png": "[encoded data removed]",
      "text/plain": [
       "<Figure size 432x288 with 1 Axes>"
      ]
     },
     "metadata": {
      "needs_background": "light"
     },
     "output_type": "display_data"
    }
   ],
   "source": [
    "def func(x):\n",
    "    return np.sin(3*x) + np.sin(10*x+2) + np.sin(7*x+4)\n",
    "\n",
    "nRegions = 20\n",
    "\n",
    "minX = 0\n",
    "maxX = 3\n",
    "\n",
    "xs = np.linspace(minX,maxX,100)\n",
    "ys = func(xs)\n",
    "plt.plot(xs,ys,\"r\",linewidth=2,label=\"Actual Function\")\n",
    "\n",
    "def optimizeRegions(xs):\n",
    "    res = 200\n",
    "    xs = np.insert(xs, 0, minX)\n",
    "    xs = np.append(xs, maxX)\n",
    "    xs = np.sort(xs)\n",
    "    \n",
    "    interpFunc = interp1d(xs,func(xs))\n",
    "    \n",
    "    err = sum([(func(x) - interpFunc(x))**2 for x in np.linspace(minX,maxX,res)])\n",
    "    \n",
    "    if min(xs) < minX:\n",
    "        err += np.absolute(min(xs) - minX)\n",
    "    if max(xs) > maxX:\n",
    "        err += np.absolute(max(xs) - maxX)\n",
    "    \n",
    "    return err\n",
    "\n",
    "xs = minimize(optimizeRegions,1.15*np.arctan(2*np.linspace(minX,maxX,nRegions-2)-maxX)+maxX/2).x\n",
    "xs = np.insert(xs, 0, minX)\n",
    "xs = np.append(xs, maxX)\n",
    "xs = np.sort(xs)\n",
    "\n",
    "plaXs = copy.deepcopy(xs)\n",
    "plaYs = func(plaXs)\n",
    "plt.plot(plaXs,plaYs,\"b.\")\n",
    "plt.plot(plaXs,plaYs,\"b\",linewidth=0.5,label=\"Piecewise Linear Approximation\")\n",
    "plt.legend()"
   ]
  },
  {
   "cell_type": "markdown",
   "id": "d80f1115-9061-4bcf-b55e-793b05e4d178",
   "metadata": {},
   "source": [
    "# Manual Version \n",
    "### (To demonstrate the concept)\n",
    "\n",
    "$Maximize\\left( y = \\sum_{i \\in I} W_i y_i \\right)$\n",
    "\n",
    "s.t. \n",
    "\n",
    "$\\sum_{i \\in I} W_i = 1$ : Weights must equal 1\n",
    "\n",
    "$W_i \\geq 0 \\ \\ \\ \\ \\forall \\ i \\ \\in \\ I$ : All weights must be positive\n",
    "\n",
    "$W_i \\leq A_i$ : A weight must be zero if that region is not active\n",
    "\n",
    "$\\sum_{i \\in I} A_i = 2$ : Precisely two regions should be active\n",
    "\n",
    "$A_i \\leq A_{i-1} + A_{i+1}$ : The two active regions must be neighbors"
   ]
  },
  {
   "cell_type": "code",
   "execution_count": 48,
   "id": "d7a3fddb-dd52-41a9-a148-01443f80b914",
   "metadata": {},
   "outputs": [
    {
     "name": "stdout",
     "output_type": "stream",
     "text": [
      "\n",
      "Weight Value\tActivation Value\tX Value\t\tY Value\n",
      "W0 = 0.0\t0.0\t\t\t0.000000\t0.152495 \n",
      "W1 = 0.0\t0.0\t\t\t0.141392\t-0.819185 \n",
      "W2 = 0.0\t0.0\t\t\t0.200858\t-0.964556 \n",
      "W3 = 0.0\t0.0\t\t\t0.255399\t-0.769458 \n",
      "W4 = 0.0\t0.0\t\t\t0.311650\t-0.216347 \n",
      "W5 = 0.0\t1.0\t\t\t0.483576\t2.409723 \n",
      "W6 = 1.0\t1.0\t\t\t0.550512\t2.936506 ***\n",
      "W7 = 0.0\t-0.0\t\t\t0.613403\t2.829787 \n",
      "W8 = 0.0\t-0.0\t\t\t0.922461\t-1.466906 \n",
      "W9 = 0.0\t-0.0\t\t\t1.272283\t0.541368 \n",
      "W10 = 0.0\t-0.0\t\t\t1.517529\t-1.097485 \n",
      "W11 = 0.0\t-0.0\t\t\t2.133204\t-0.774749 \n",
      "W12 = 0.0\t-0.0\t\t\t2.376167\t2.313903 \n",
      "W13 = 0.0\t-0.0\t\t\t2.428249\t2.592865 \n",
      "W14 = 0.0\t-0.0\t\t\t2.478694\t2.507898 \n",
      "W15 = 0.0\t-0.0\t\t\t2.532154\t2.045002 \n",
      "W16 = 0.0\t0.0\t\t\t2.714588\t-0.654369 \n",
      "W17 = 0.0\t0.0\t\t\t2.791048\t-1.129328 \n",
      "W18 = 0.0\t0.0\t\t\t2.868440\t-0.806470 \n",
      "W19 = 0.0\t0.0\t\t\t3.000000\t0.831193 \n"
     ]
    }
   ],
   "source": [
    "model = pyo.ConcreteModel()\n",
    "\n",
    "model.I = pyo.Set(initialize=range(len(plaXs)))\n",
    "\n",
    "model.W = pyo.Var(model.I, domain=pyo.NonNegativeReals)\n",
    "model.A = pyo.Var(model.I, domain=pyo.Binary)\n",
    "\n",
    "model.Objective = pyo.Objective(\n",
    "    expr = sum([model.W[i] * plaYs[i] for i in model.I]),\n",
    "    sense = pyo.maximize\n",
    ")\n",
    "\n",
    "model.weightSumConstr = pyo.Constraint(expr = sum([model.W[i] for i in model.I]) == 1)\n",
    "    \n",
    "def weightActivationConstr(m,i):\n",
    "    return m.W[i] <= m.A[i]\n",
    "model.weightActivationConstr = pyo.Constraint(model.I, rule= weightActivationConstr)\n",
    "    \n",
    "model.twoActivationConstr = pyo.Constraint(expr = sum([model.A[i] for i in model.I]) <= 2)\n",
    "\n",
    "def neighborConstr(m,i):\n",
    "    lhs = m.A[i]\n",
    "    rhs = 0\n",
    "    if (i-1) >= 0:\n",
    "        rhs += m.A[i-1]\n",
    "    if (i+1) < len(m.A):\n",
    "        rhs += m.A[i+1]\n",
    "            \n",
    "    return lhs <= rhs\n",
    "model.neighborConstr = pyo.Constraint(model.I, rule=neighborConstr)\n",
    "    \n",
    "pyo.SolverFactory('gurobi').solve(model)#.write()\n",
    "\n",
    "print(\"\\nWeight Value\\tActivation Value\\tX Value\\t\\tY Value\")\n",
    "for i in range(len(model.W)):\n",
    "    print(\"W{} = {}\\t{}\\t\\t\\t{:.6f}\\t{:.6f} {}\".format(i,model.W[i](),model.A[i](),plaXs[i],plaYs[i],\"***\" if model.W[i]() == 1 else \"\"))"
   ]
  },
  {
   "cell_type": "markdown",
   "id": "7d87a303-82b1-42c2-99bf-a22e308628c0",
   "metadata": {},
   "source": [
    "# Built-in Version"
   ]
  },
  {
   "cell_type": "code",
   "execution_count": 42,
   "id": "a879e210-13df-44f0-9296-a0174c90aac9",
   "metadata": {},
   "outputs": [],
   "source": [
    "import pyomo.core as pyoc"
   ]
  },
  {
   "cell_type": "code",
   "execution_count": 54,
   "id": "c8c52c2b-0dff-44e9-a1aa-5f5039750136",
   "metadata": {},
   "outputs": [
    {
     "name": "stdout",
     "output_type": "stream",
     "text": [
      "# ==========================================================\n",
      "# = Solver Results                                         =\n",
      "# ==========================================================\n",
      "# ----------------------------------------------------------\n",
      "#   Problem Information\n",
      "# ----------------------------------------------------------\n",
      "Problem: \n",
      "- Name: x23\n",
      "  Lower bound: 2.9365060024878753\n",
      "  Upper bound: 2.9365060024878753\n",
      "  Number of objectives: 1\n",
      "  Number of constraints: 5\n",
      "  Number of variables: 23\n",
      "  Number of binary variables: 0\n",
      "  Number of integer variables: 0\n",
      "  Number of continuous variables: 23\n",
      "  Number of nonzeros: 62\n",
      "  Sense: maximize\n",
      "# ----------------------------------------------------------\n",
      "#   Solver Information\n",
      "# ----------------------------------------------------------\n",
      "Solver: \n",
      "- Status: ok\n",
      "  Return code: 0\n",
      "  Message: Model was solved to optimality (subject to tolerances), and an optimal solution is available.\n",
      "  Termination condition: optimal\n",
      "  Termination message: Model was solved to optimality (subject to tolerances), and an optimal solution is available.\n",
      "  Wall time: 0.005000114440917969\n",
      "  Error rc: 0\n",
      "  Time: 0.11056399345397949\n",
      "# ----------------------------------------------------------\n",
      "#   Solution Information\n",
      "# ----------------------------------------------------------\n",
      "Solution: \n",
      "- number of solutions: 0\n",
      "  number of solutions displayed: 0\n",
      "\n",
      "X Value: 0.550512\n",
      "Y Value: 2.936506\n"
     ]
    }
   ],
   "source": [
    "model = pyo.ConcreteModel()\n",
    "\n",
    "model.X = pyo.Var(domain=pyo.Reals, bounds=(minX,maxX))\n",
    "model.Y = pyo.Var(domain=pyo.Reals)\n",
    "\n",
    "model.FunctionEqualityConstraint = pyoc.Piecewise(\n",
    "    model.Y,\n",
    "    model.X,\n",
    "    pw_pts = plaXs.tolist(), \n",
    "    f_rule = plaYs.tolist(), # Note that you could have passed \"func\" as an argument here\n",
    "    pw_repn ='SOS2', #There are different options here. See documetation\n",
    "    pw_constr_type = 'EQ' #Could have specified LB (Y >= func(X)) or UB (Y <= func(X))\n",
    ")\n",
    "\n",
    "model.Objective = pyo.Objective(\n",
    "    expr = model.Y,\n",
    "    sense = pyo.maximize\n",
    ")\n",
    "\n",
    "pyo.SolverFactory('gurobi').solve(model).write()\n",
    "\n",
    "print(\"\\nX Value: {:.6f}\".format(model.X()))\n",
    "print(\"Y Value: {:.6f}\".format(model.Y()))"
   ]
  },
  {
   "cell_type": "code",
   "execution_count": null,
   "id": "66a856d2-8a96-48cb-a4fd-983896a06425",
   "metadata": {},
   "outputs": [],
   "source": []
  }
 ],
 "metadata": {
  "kernelspec": {
   "display_name": "Python 3 (ipykernel)",
   "language": "python",
   "name": "python3"
  },
  "language_info": {
   "codemirror_mode": {
    "name": "ipython",
    "version": 3
   },
   "file_extension": ".py",
   "mimetype": "text/x-python",
   "name": "python",
   "nbconvert_exporter": "python",
   "pygments_lexer": "ipython3",
   "version": "3.10.9"
  }
 },
 "nbformat": 4,
 "nbformat_minor": 5
}
