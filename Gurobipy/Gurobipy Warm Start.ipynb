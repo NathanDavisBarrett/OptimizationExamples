{
 "cells": [
  {
   "cell_type": "markdown",
   "metadata": {},
   "source": [
    "```\n",
    "conda install -c gurobi gurobi\n",
    "```"
   ]
  },
  {
   "cell_type": "code",
   "execution_count": 37,
   "metadata": {},
   "outputs": [],
   "source": [
    "import gurobipy as gp\n",
    "import numpy as np\n",
    "import matplotlib.pyplot as plt\n",
    "from scipy.interpolate import interp1d\n",
    "from scipy.optimize import minimize\n",
    "import copy"
   ]
  },
  {
   "cell_type": "markdown",
   "metadata": {},
   "source": [
    "In this tutorial, I'll use the Gurobi solver. Students and academics can register for a free license [here](https://www.gurobi.com/academia/academic-program-and-licenses/). \n",
    "\n",
    "Pyomo also suports several other solvers. The solvers available for your version of pyomo can be listed by running the following command in an anaconda prompt using an environment with pyomo installed.\n",
    "```\n",
    "pyomo help --solvers\n",
    "```"
   ]
  },
  {
   "cell_type": "markdown",
   "metadata": {},
   "source": [
    "# Simple Example: Simple Piecewise Linear Approx"
   ]
  },
  {
   "cell_type": "code",
   "execution_count": 84,
   "metadata": {},
   "outputs": [
    {
     "data": {
      "text/plain": [
       "[<matplotlib.lines.Line2D at 0x26d8dd3fd60>]"
      ]
     },
     "execution_count": 84,
     "metadata": {},
     "output_type": "execute_result"
    },
    {
     "data": {
      "image/png": "[encoded data removed]",
      "text/plain": [
       "<Figure size 432x288 with 1 Axes>"
      ]
     },
     "metadata": {
      "needs_background": "light"
     },
     "output_type": "display_data"
    }
   ],
   "source": [
    "def func(x):\n",
    "    return np.sin(3*x) + np.sin(10*x+2) + np.sin(7*x+4)\n",
    "\n",
    "#A Simple nonlinear optimization to determine the best placement of linear regions.\n",
    "nRegions = 50\n",
    "\n",
    "def optimizeRegions(xs):\n",
    "    res = 200\n",
    "    xs = np.insert(xs, 0, 0)\n",
    "    xs = np.append(xs, 3)\n",
    "    xs = np.sort(xs)\n",
    "    \n",
    "    interpFunc = interp1d(xs,func(xs))\n",
    "    \n",
    "    err = sum([(func(x) - interpFunc(x))**2 for x in np.linspace(0,3,res)])\n",
    "    \n",
    "    if min(xs) < 0:\n",
    "        err += -1 * min(xs)\n",
    "    if max(xs) > 3:\n",
    "        err += max(xs) - 3\n",
    "    \n",
    "    return err\n",
    "\n",
    "xs = minimize(optimizeRegions,1.15*np.arctan(2*np.linspace(0.5,2.5,nRegions-2)-3)+1.5).x\n",
    "xs = np.insert(xs, 0, 0)\n",
    "xs = np.append(xs, 3)\n",
    "xs = np.sort(xs)\n",
    "\n",
    "plaXs = copy.deepcopy(xs)\n",
    "plaYs = func(plaXs)\n",
    "plt.plot(plaXs,plaYs,\"b.\")\n",
    "plt.plot(plaXs,plaYs,\"b\")\n",
    "\n",
    "xs = np.linspace(0,3,100)\n",
    "ys = func(xs)\n",
    "plt.plot(xs,ys,\"r\")"
   ]
  },
  {
   "cell_type": "markdown",
   "metadata": {},
   "source": [
    "$Maximize\\left( y = \\sum_{i \\in I} W_i y_i \\right)$\n",
    "\n",
    "s.t. \n",
    "\n",
    "$\\sum_{i \\in I} W_i = 1$\n",
    "\n",
    "$W_i \\geq 0 \\ \\ \\ \\ \\forall \\ i \\ \\in \\ I$\n",
    "\n",
    "$W_i \\leq A_i$\n",
    "\n",
    "$\\sum_{i \\in I} A_i = 2$\n",
    "\n",
    "$A_i \\leq A_{i-1} + A_{i+1}$"
   ]
  },
  {
   "cell_type": "code",
   "execution_count": 86,
   "metadata": {},
   "outputs": [
    {
     "name": "stdout",
     "output_type": "stream",
     "text": [
      "Gurobi Optimizer version 10.0.1 build v10.0.1rc0 (win64)\n",
      "\n",
      "CPU model: 12th Gen Intel(R) Core(TM) i7-1265U, instruction set [SSE2|AVX|AVX2]\n",
      "Thread count: 10 physical cores, 12 logical processors, using up to 12 threads\n",
      "\n",
      "Optimize a model with 152 rows, 100 columns and 398 nonzeros\n",
      "Model fingerprint: 0x6fe4a16c\n",
      "Variable types: 50 continuous, 50 integer (50 binary)\n",
      "Coefficient statistics:\n",
      "  Matrix range     [1e+00, 1e+00]\n",
      "  Objective range  [1e-01, 3e+00]\n",
      "  Bounds range     [1e+00, 1e+00]\n",
      "  RHS range        [1e+00, 2e+00]\n",
      "\n",
      "Loaded user MIP start with objective 0.152495\n",
      "\n",
      "Presolve removed 50 rows and 0 columns\n",
      "Presolve time: 0.00s\n",
      "Presolved: 102 rows, 100 columns, 350 nonzeros\n",
      "Variable types: 50 continuous, 50 integer (50 binary)\n",
      "\n",
      "Root relaxation: objective 2.955288e+00, 2 iterations, 0.00 seconds (0.00 work units)\n",
      "\n",
      "    Nodes    |    Current Node    |     Objective Bounds      |     Work\n",
      " Expl Unexpl |  Obj  Depth IntInf | Incumbent    BestBd   Gap | It/Node Time\n",
      "\n",
      "*    0     0               0       2.9552877    2.95529  0.00%     -    0s\n",
      "\n",
      "Explored 1 nodes (2 simplex iterations) in 0.08 seconds (0.00 work units)\n",
      "Thread count was 12 (of 12 available processors)\n",
      "\n",
      "Solution count 2: 2.95529 0.152495 \n",
      "\n",
      "Optimal solution found (tolerance 1.00e-04)\n",
      "Best objective 2.955287680586e+00, best bound 2.955287680586e+00, gap 0.0000%\n",
      "W0 = 0.0\t-0.0\t0.1524949315177535\n",
      "W1 = 0.0\t-0.0\t-0.7476116155000374\n",
      "W2 = 0.0\t-0.0\t-0.9227732131030962\n",
      "W3 = 0.0\t-0.0\t-0.9633371741471672\n",
      "W4 = 0.0\t-0.0\t-0.8753056210683626\n",
      "W5 = 0.0\t-0.0\t-0.6611936008128126\n",
      "W6 = 0.0\t-0.0\t-0.31631649436720144\n",
      "W7 = 0.0\t-0.0\t0.19461313316638293\n",
      "W8 = 0.0\t-0.0\t1.9772837694802294\n",
      "W9 = 0.0\t-0.0\t2.499347250500918\n",
      "W10 = 0.0\t1.0\t2.8120006493409075\n",
      "W11 = 1.0\t1.0\t2.9552876805859363\n",
      "W12 = 0.0\t-0.0\t2.9446329624488907\n",
      "W13 = 0.0\t-0.0\t2.77683367732993\n",
      "W14 = 0.0\t-0.0\t2.4336128707903733\n",
      "W15 = 0.0\t-0.0\t1.8793810182815045\n",
      "W16 = 0.0\t-0.0\t-0.4252654268929611\n",
      "W17 = 0.0\t-0.0\t-1.1067866041963947\n",
      "W18 = 0.0\t-0.0\t-1.4572660728628293\n",
      "W19 = 0.0\t-0.0\t-1.5174933316645713\n",
      "W20 = 0.0\t-0.0\t-1.2818253559074044\n",
      "W21 = 0.0\t-0.0\t0.2767790959974513\n",
      "W22 = 0.0\t-0.0\t0.5472431642531284\n",
      "W23 = 0.0\t-0.0\t0.3735703706280154\n",
      "W24 = 0.0\t-0.0\t-1.0037582388177846\n",
      "W25 = 0.0\t-0.0\t-1.2416020707849884\n",
      "W26 = 0.0\t-0.0\t-1.2257105012403489\n",
      "W27 = 0.0\t-0.0\t-0.6797882807089686\n",
      "W28 = 0.0\t-0.0\t-0.6129906580048238\n",
      "W29 = 0.0\t-0.0\t-0.6481803312450649\n",
      "W30 = 0.0\t-0.0\t-1.0854851206893807\n",
      "W31 = 0.0\t-0.0\t-1.0442399774993756\n",
      "W32 = 0.0\t-0.0\t-0.7434773814251565\n",
      "W33 = 0.0\t-0.0\t-0.1473318239701284\n",
      "W34 = 0.0\t-0.0\t1.799729004909676\n",
      "W35 = 0.0\t-0.0\t2.2143313136025586\n",
      "W36 = 0.0\t-0.0\t2.4699704227313912\n",
      "W37 = 0.0\t-0.0\t2.592615245501024\n",
      "W38 = 0.0\t-0.0\t2.584373989305589\n",
      "W39 = 0.0\t-0.0\t2.435972733517076\n",
      "W40 = 0.0\t-0.0\t2.129621019440798\n",
      "W41 = 0.0\t-0.0\t1.6316883312215091\n",
      "W42 = 0.0\t-0.0\t-0.17411103141320705\n",
      "W43 = 0.0\t-0.0\t-0.6946927120728742\n",
      "W44 = 0.0\t-0.0\t-1.002822531146383\n",
      "W45 = 0.0\t-0.0\t-1.128343894590937\n",
      "W46 = 0.0\t-0.0\t-1.0814703085182877\n",
      "W47 = 0.0\t-0.0\t-0.8536085078330902\n",
      "W48 = 0.0\t-0.0\t-0.4207033912558791\n",
      "W49 = 0.0\t-0.0\t0.8311934163856741\n"
     ]
    }
   ],
   "source": [
    "model = gp.Model()\n",
    "\n",
    "I = range(len(plaXs))\n",
    "\n",
    "W = model.addVars(I, vtype=gp.GRB.CONTINUOUS, name=\"W\")\n",
    "A = model.addVars(I, vtype=gp.GRB.BINARY, name=\"A\")\n",
    "\n",
    "model.setObjective(\n",
    "    sum([W[i] * plaYs[i] for i in I]),\n",
    "    gp.GRB.MAXIMIZE\n",
    ")\n",
    "\n",
    "weightSumConstr = model.addConstr(sum([W[i] for i in I]) == 1)\n",
    "\n",
    "weightNonNegConstr = []\n",
    "for i in I:\n",
    "    weightNonNegConstr.append(model.addConstr(W[i] >= 0))\n",
    "    \n",
    "weightActivationConstr = []\n",
    "for i in I:\n",
    "    weightActivationConstr.append(model.addConstr(W[i] <= A[i]))\n",
    "    \n",
    "twoActivationConst = model.addConstr(sum([A[i] for i in I]) <= 2)\n",
    "\n",
    "neighborConstr = []\n",
    "for i in I:\n",
    "    lhs = A[i]\n",
    "    rhs = 0\n",
    "    if (i-1) >= 0:\n",
    "        rhs += A[i-1]\n",
    "    if (i+1) < len(A):\n",
    "        rhs += A[i+1]\n",
    "            \n",
    "    neighborConstr.append(model.addConstr(lhs <= rhs))\n",
    "    \n",
    "model.NumStart = 1\n",
    "model.update()\n",
    "model.params.StartNumber = 0\n",
    "W[0].Start = 1.0\n",
    "for i in range(1,len(W)):\n",
    "    W[i].Start = 0.0\n",
    "\n",
    "A[0].Start = 1\n",
    "A[1].Start = 1\n",
    "for i in range(2,len(A)):\n",
    "    A[i].Start = 0\n",
    "    \n",
    "model.optimize()\n",
    "\n",
    "for i in range(len(W)):\n",
    "    print(\"W{} = {}\\t{}\\t{}\".format(i,W.values()[i].X,A.values()[i].X,plaYs[i]))"
   ]
  },
  {
   "cell_type": "code",
   "execution_count": 16,
   "metadata": {},
   "outputs": [
    {
     "name": "stdout",
     "output_type": "stream",
     "text": [
      "Warning on update mode = 1 after new variables or constraints added:\n",
      "Setting LP warm start basis or start ignored\n",
      "Gurobi Optimizer version 10.0.1 build v10.0.1rc0 (win64)\n",
      "\n",
      "CPU model: 12th Gen Intel(R) Core(TM) i7-1265U, instruction set [SSE2|AVX|AVX2]\n",
      "Thread count: 10 physical cores, 12 logical processors, using up to 12 threads\n",
      "\n",
      "Optimize a model with 1 rows, 1 columns and 1 nonzeros\n",
      "Model fingerprint: 0x3c3f69f8\n",
      "Coefficient statistics:\n",
      "  Matrix range     [1e+00, 1e+00]\n",
      "  Objective range  [4e+01, 4e+01]\n",
      "  Bounds range     [0e+00, 0e+00]\n",
      "  RHS range        [4e+01, 4e+01]\n",
      "Presolve removed 1 rows and 1 columns\n",
      "Presolve time: 0.00s\n",
      "Presolve: All rows and columns removed\n",
      "Iteration    Objective       Primal Inf.    Dual Inf.      Time\n",
      "       0    1.6000000e+03   0.000000e+00   0.000000e+00      0s\n",
      "\n",
      "Solved in 0 iterations and 0.01 seconds (0.00 work units)\n",
      "Optimal objective  1.600000000e+03\n",
      "\n",
      "\n",
      "x = 40.0\n"
     ]
    }
   ],
   "source": [
    "model = gp.Model()\n",
    "\n",
    "ANSWER = 40\n",
    "\n",
    "x = model.addVar(vtype=gp.GRB.CONTINUOUS,name=\"x\")\n",
    "\n",
    "model.setObjective(\n",
    "    40 * x,\n",
    "    gp.GRB.MAXIMIZE\n",
    ")\n",
    "\n",
    "model.addConstr( x <= 40)\n",
    "\n",
    "x.setAttr(\"PStart\",ANSWER)\n",
    "\n",
    "model.setParam(gp.GRB.Param.LPWarmStart, 1)\n",
    "\n",
    "model.optimize()\n",
    "print(\"\\n\\nx =\",x.x)"
   ]
  },
  {
   "cell_type": "code",
   "execution_count": null,
   "metadata": {},
   "outputs": [],
   "source": []
  }
 ],
 "metadata": {
  "kernelspec": {
   "display_name": "Python 3 (ipykernel)",
   "language": "python",
   "name": "python3"
  },
  "language_info": {
   "codemirror_mode": {
    "name": "ipython",
    "version": 3
   },
   "file_extension": ".py",
   "mimetype": "text/x-python",
   "name": "python",
   "nbconvert_exporter": "python",
   "pygments_lexer": "ipython3",
   "version": "3.10.9"
  },
  "varInspector": {
   "cols": {
    "lenName": 16,
    "lenType": 16,
    "lenVar": 40
   },
   "kernels_config": {
    "python": {
     "delete_cmd_postfix": "",
     "delete_cmd_prefix": "del ",
     "library": "var_list.py",
     "varRefreshCmd": "print(var_dic_list())"
    },
    "r": {
     "delete_cmd_postfix": ") ",
     "delete_cmd_prefix": "rm(",
     "library": "var_list.r",
     "varRefreshCmd": "cat(var_dic_list()) "
    }
   },
   "types_to_exclude": [
    "module",
    "function",
    "builtin_function_or_method",
    "instance",
    "_Feature"
   ],
   "window_display": false
  }
 },
 "nbformat": 4,
 "nbformat_minor": 4
}
