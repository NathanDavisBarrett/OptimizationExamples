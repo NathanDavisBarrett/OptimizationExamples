{
 "cells": [
  {
   "cell_type": "markdown",
   "metadata": {},
   "source": [
    "```\n",
    "conda install -c gurobi gurobi\n",
    "```"
   ]
  },
  {
   "cell_type": "code",
   "execution_count": 2,
   "metadata": {},
   "outputs": [],
   "source": [
    "import gurobipy as gp\n",
    "import numpy as np"
   ]
  },
  {
   "cell_type": "markdown",
   "metadata": {},
   "source": [
    "In this tutorial, I'll use the Gurobi solver. Students and academics can register for a free license [here](https://www.gurobi.com/academia/academic-program-and-licenses/). \n",
    "\n",
    "Pyomo also suports several other solvers. The solvers available for your version of pyomo can be listed by running the following command in an anaconda prompt using an environment with pyomo installed.\n",
    "```\n",
    "pyomo help --solvers\n",
    "```"
   ]
  },
  {
   "cell_type": "markdown",
   "metadata": {},
   "source": [
    "# Minimal Example"
   ]
  },
  {
   "cell_type": "markdown",
   "metadata": {},
   "source": [
    "$Maximize\\left( 40 \\ x \\right)$\n",
    "\n",
    "s.t. \n",
    "\n",
    "$x \\leq 40$"
   ]
  },
  {
   "cell_type": "code",
   "execution_count": 16,
   "metadata": {},
   "outputs": [
    {
     "name": "stdout",
     "output_type": "stream",
     "text": [
      "Warning on update mode = 1 after new variables or constraints added:\n",
      "Setting LP warm start basis or start ignored\n",
      "Gurobi Optimizer version 10.0.1 build v10.0.1rc0 (win64)\n",
      "\n",
      "CPU model: 12th Gen Intel(R) Core(TM) i7-1265U, instruction set [SSE2|AVX|AVX2]\n",
      "Thread count: 10 physical cores, 12 logical processors, using up to 12 threads\n",
      "\n",
      "Optimize a model with 1 rows, 1 columns and 1 nonzeros\n",
      "Model fingerprint: 0x3c3f69f8\n",
      "Coefficient statistics:\n",
      "  Matrix range     [1e+00, 1e+00]\n",
      "  Objective range  [4e+01, 4e+01]\n",
      "  Bounds range     [0e+00, 0e+00]\n",
      "  RHS range        [4e+01, 4e+01]\n",
      "Presolve removed 1 rows and 1 columns\n",
      "Presolve time: 0.00s\n",
      "Presolve: All rows and columns removed\n",
      "Iteration    Objective       Primal Inf.    Dual Inf.      Time\n",
      "       0    1.6000000e+03   0.000000e+00   0.000000e+00      0s\n",
      "\n",
      "Solved in 0 iterations and 0.01 seconds (0.00 work units)\n",
      "Optimal objective  1.600000000e+03\n",
      "\n",
      "\n",
      "x = 40.0\n"
     ]
    }
   ],
   "source": [
    "model = gp.Model()\n",
    "\n",
    "ANSWER = 40\n",
    "\n",
    "x = model.addVar(vtype=gp.GRB.CONTINUOUS,name=\"x\")\n",
    "\n",
    "model.setObjective(\n",
    "    40 * x,\n",
    "    gp.GRB.MAXIMIZE\n",
    ")\n",
    "\n",
    "model.addConstr( x <= 40)\n",
    "\n",
    "x.setAttr(\"PStart\",ANSWER)\n",
    "\n",
    "model.setParam(gp.GRB.Param.LPWarmStart, 1)\n",
    "\n",
    "model.optimize()\n",
    "print(\"\\n\\nx =\",x.x)"
   ]
  },
  {
   "cell_type": "markdown",
   "metadata": {},
   "source": [
    "# Array of Variables Example"
   ]
  },
  {
   "cell_type": "markdown",
   "metadata": {},
   "source": [
    "$Maximize\\left(\\sum_{i \\in I} c_i x_i \\right)$\n",
    "\n",
    "s.t. \n",
    "\n",
    "$x_i \\leq b_i \\ \\ \\ \\ \\forall \\ i \\in I$"
   ]
  },
  {
   "cell_type": "code",
   "execution_count": 20,
   "metadata": {},
   "outputs": [
    {
     "name": "stdout",
     "output_type": "stream",
     "text": [
      "Gurobi Optimizer version 10.0.1 build v10.0.1rc0 (win64)\n",
      "\n",
      "CPU model: 12th Gen Intel(R) Core(TM) i7-1265U, instruction set [SSE2|AVX|AVX2]\n",
      "Thread count: 10 physical cores, 12 logical processors, using up to 12 threads\n",
      "\n",
      "Optimize a model with 10 rows, 10 columns and 10 nonzeros\n",
      "Model fingerprint: 0x2e5aff4d\n",
      "Coefficient statistics:\n",
      "  Matrix range     [1e+00, 1e+00]\n",
      "  Objective range  [1e-01, 1e+00]\n",
      "  Bounds range     [0e+00, 0e+00]\n",
      "  RHS range        [2e-01, 1e+00]\n",
      "Presolve removed 10 rows and 10 columns\n",
      "Presolve time: 0.00s\n",
      "Presolve: All rows and columns removed\n",
      "Iteration    Objective       Primal Inf.    Dual Inf.      Time\n",
      "       0    4.1416277e+00   0.000000e+00   0.000000e+00      0s\n",
      "\n",
      "Solved in 0 iterations and 0.01 seconds (0.00 work units)\n",
      "Optimal objective  4.141627714e+00\n",
      "x0 = 0.5806706539418138\n",
      "x1 = 0.8607280208031708\n",
      "x2 = 0.24201592458664556\n",
      "x3 = 0.29066486985823825\n",
      "x4 = 0.9960511308033559\n",
      "x5 = 0.8213110857074437\n",
      "x6 = 0.9240006723160997\n",
      "x7 = 0.6273649998825911\n",
      "x8 = 0.9050844092883013\n",
      "x9 = 0.42782295597532816\n"
     ]
    }
   ],
   "source": [
    "model = gp.Model()\n",
    "\n",
    "numVar = 10\n",
    "\n",
    "I = range(numVar)\n",
    "\n",
    "x = model.addVars(I, vtype=gp.GRB.CONTINUOUS, name=\"x\")\n",
    "\n",
    "c = np.random.uniform(0,1,numVar)\n",
    "b = np.random.uniform(0,1,numVar)\n",
    "\n",
    "model.setObjective(\n",
    "    sum([c[i] * x[i] for i in I]),\n",
    "    gp.GRB.MAXIMIZE\n",
    ")\n",
    "\n",
    "def myConstraint(i):\n",
    "    return x[i] <= b[i]\n",
    "\n",
    "for i in I:\n",
    "    model.addConstr(myConstraint(i))\n",
    "\n",
    "model.optimize()\n",
    "for i in range(len(x)):\n",
    "    xi = x[i]\n",
    "    print(\"x{} =\".format(i),xi.x)"
   ]
  },
  {
   "cell_type": "markdown",
   "metadata": {},
   "source": [
    "# Multi-Dimensional Array of Variables Example\n",
    "\n",
    "$Maximize\\left(\\sum_{i \\in I} \\sum_{j \\in J} \\sum_{k \\in K} c_{i,j,k} x_{i,j,k} \\right)$\n",
    "\n",
    "s.t. \n",
    "\n",
    "$\\sum_{k \\in K} x_{i,j,k} \\leq b_{i,j} \\ \\ \\ \\ \\forall \\ i \\in \\ I, \\ j \\ \\in \\ J$"
   ]
  },
  {
   "cell_type": "code",
   "execution_count": 44,
   "metadata": {},
   "outputs": [
    {
     "name": "stdout",
     "output_type": "stream",
     "text": [
      "Gurobi Optimizer version 10.0.1 build v10.0.1rc0 (win64)\n",
      "\n",
      "CPU model: 12th Gen Intel(R) Core(TM) i7-1265U, instruction set [SSE2|AVX|AVX2]\n",
      "Thread count: 10 physical cores, 12 logical processors, using up to 12 threads\n",
      "\n",
      "Optimize a model with 12 rows, 60 columns and 60 nonzeros\n",
      "Model fingerprint: 0xf1de87f5\n",
      "Coefficient statistics:\n",
      "  Matrix range     [1e+00, 1e+00]\n",
      "  Objective range  [6e-02, 1e+00]\n",
      "  Bounds range     [0e+00, 0e+00]\n",
      "  RHS range        [8e-02, 8e-01]\n",
      "Presolve removed 12 rows and 60 columns\n",
      "Presolve time: 0.00s\n",
      "Presolve: All rows and columns removed\n",
      "Iteration    Objective       Primal Inf.    Dual Inf.      Time\n",
      "       0    4.4427485e+00   0.000000e+00   0.000000e+00      0s\n",
      "\n",
      "Solved in 0 iterations and 0.01 seconds (0.00 work units)\n",
      "Optimal objective  4.442748501e+00\n",
      "x0-0-0 = 0.0\n",
      "x0-0-1 = 0.8124810237167353\n",
      "x0-0-2 = 0.0\n",
      "x0-0-3 = 0.0\n",
      "x0-0-4 = 0.0\n",
      "x0-1-0 = 0.17879498884238665\n",
      "x0-1-1 = 0.0\n",
      "x0-1-2 = 0.0\n",
      "x0-1-3 = 0.0\n",
      "x0-1-4 = 0.0\n",
      "x0-2-0 = 0.5383066971734936\n",
      "x0-2-1 = 0.0\n",
      "x0-2-2 = 0.0\n",
      "x0-2-3 = 0.0\n",
      "x0-2-4 = 0.0\n",
      "x0-3-0 = 0.0\n",
      "x0-3-1 = 0.0\n",
      "x0-3-2 = 0.0\n",
      "x0-3-3 = 0.8348066328209426\n",
      "x0-3-4 = 0.0\n",
      "x1-0-0 = 0.0\n",
      "x1-0-1 = 0.0\n",
      "x1-0-2 = 0.0\n",
      "x1-0-3 = 0.46663224191865815\n",
      "x1-0-4 = 0.0\n",
      "x1-1-0 = 0.0\n",
      "x1-1-1 = 0.6327554531728639\n",
      "x1-1-2 = 0.0\n",
      "x1-1-3 = 0.0\n",
      "x1-1-4 = 0.0\n",
      "x1-2-0 = 0.0\n",
      "x1-2-1 = 0.0\n",
      "x1-2-2 = 0.4447594502698482\n",
      "x1-2-3 = 0.0\n",
      "x1-2-4 = 0.0\n",
      "x1-3-0 = 0.0\n",
      "x1-3-1 = 0.0\n",
      "x1-3-2 = 0.0\n",
      "x1-3-3 = 0.6500390282672526\n",
      "x1-3-4 = 0.0\n",
      "x2-0-0 = 0.0\n",
      "x2-0-1 = 0.0\n",
      "x2-0-2 = 0.07637445337482207\n",
      "x2-0-3 = 0.0\n",
      "x2-0-4 = 0.0\n",
      "x2-1-0 = 0.0\n",
      "x2-1-1 = 0.0\n",
      "x2-1-2 = 0.3297013628422053\n",
      "x2-1-3 = 0.0\n",
      "x2-1-4 = 0.0\n",
      "x2-2-0 = 0.0\n",
      "x2-2-1 = 0.0\n",
      "x2-2-2 = 0.7408329528515097\n",
      "x2-2-3 = 0.0\n",
      "x2-2-4 = 0.0\n",
      "x2-3-0 = 0.0\n",
      "x2-3-1 = 0.5083936116027028\n",
      "x2-3-2 = 0.0\n",
      "x2-3-3 = 0.0\n",
      "x2-3-4 = 0.0\n"
     ]
    }
   ],
   "source": [
    "model = gp.Model()\n",
    "\n",
    "numI = 3\n",
    "numJ = 4\n",
    "numK = 5\n",
    "\n",
    "I = range(numI)\n",
    "J = range(numJ)\n",
    "K = range(numK)\n",
    "\n",
    "I_J_K = np.zeros((numI*numJ*numK,3))\n",
    "ii = 0\n",
    "for i in I:\n",
    "    for j in J:\n",
    "        for k in K:\n",
    "            I_J_K[ii] = [i,j,k]\n",
    "            ii += 1\n",
    "        \n",
    "x = model.addVars(numI,numJ,numK, vtype=gp.GRB.CONTINUOUS, name=\"x\")\n",
    "\n",
    "c = np.random.uniform(0,1,(numI,numJ,numK))\n",
    "b = np.random.uniform(0,1,(numI,numJ))\n",
    "\n",
    "model.setObjective(\n",
    "    sum([c[i,j,k] * x[i,j,k] for i in I for j in J for k in K]),\n",
    "    gp.GRB.MAXIMIZE\n",
    ")\n",
    "\n",
    "def myConstraint(i,j):\n",
    "    return sum([x[i,j,k] for k in K]) <= b[i,j]\n",
    "for i in I:\n",
    "    for j in J:\n",
    "        model.addConstr(myConstraint(i,j))\n",
    "\n",
    "model.optimize()\n",
    "for i in I:\n",
    "    for j in J:\n",
    "        for k in K:\n",
    "            xijk = x[i,j,k]\n",
    "            print(\"x{}-{}-{} =\".format(i,j,k),xijk.x)"
   ]
  },
  {
   "cell_type": "code",
   "execution_count": null,
   "metadata": {},
   "outputs": [],
   "source": []
  }
 ],
 "metadata": {
  "kernelspec": {
   "display_name": "Python 3 (ipykernel)",
   "language": "python",
   "name": "python3"
  },
  "language_info": {
   "codemirror_mode": {
    "name": "ipython",
    "version": 3
   },
   "file_extension": ".py",
   "mimetype": "text/x-python",
   "name": "python",
   "nbconvert_exporter": "python",
   "pygments_lexer": "ipython3",
   "version": "3.10.9"
  },
  "varInspector": {
   "cols": {
    "lenName": 16,
    "lenType": 16,
    "lenVar": 40
   },
   "kernels_config": {
    "python": {
     "delete_cmd_postfix": "",
     "delete_cmd_prefix": "del ",
     "library": "var_list.py",
     "varRefreshCmd": "print(var_dic_list())"
    },
    "r": {
     "delete_cmd_postfix": ") ",
     "delete_cmd_prefix": "rm(",
     "library": "var_list.r",
     "varRefreshCmd": "cat(var_dic_list()) "
    }
   },
   "types_to_exclude": [
    "module",
    "function",
    "builtin_function_or_method",
    "instance",
    "_Feature"
   ],
   "window_display": false
  }
 },
 "nbformat": 4,
 "nbformat_minor": 4
}
